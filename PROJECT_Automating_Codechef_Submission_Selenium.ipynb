{
 "cells": [
  {
   "cell_type": "markdown",
   "id": "3e40049f",
   "metadata": {},
   "source": [
    "# Web Automation"
   ]
  },
  {
   "cell_type": "markdown",
   "id": "1712bdb3",
   "metadata": {},
   "source": [
    "task- Automatically submit the code of a problem on codechef"
   ]
  },
  {
   "cell_type": "markdown",
   "id": "ff1af809",
   "metadata": {},
   "source": [
    "- Selenium-Web Automation and testing"
   ]
  },
  {
   "cell_type": "markdown",
   "id": "1e7a5049",
   "metadata": {},
   "source": [
    "Installation"
   ]
  },
  {
   "cell_type": "markdown",
   "id": "e468f0b5",
   "metadata": {},
   "source": [
    "### To select an element by its id\n",
    "- browser.find_element_by_id(<id>)"
   ]
  },
  {
   "cell_type": "markdown",
   "id": "79717b2f",
   "metadata": {},
   "source": [
    "### Input value in an element\n",
    "- browser.send_keys()"
   ]
  },
  {
   "cell_type": "markdown",
   "id": "72d730c6",
   "metadata": {},
   "source": [
    "### Click on Element\n",
    "- element.click()"
   ]
  },
  {
   "cell_type": "code",
   "execution_count": 1,
   "id": "6015ce14",
   "metadata": {},
   "outputs": [
    {
     "name": "stdout",
     "output_type": "stream",
     "text": [
      "Requirement already satisfied: selenium in c:\\users\\sarthak bajaj\\anaconda3\\lib\\site-packages (3.141.0)\n",
      "Requirement already satisfied: urllib3 in c:\\users\\sarthak bajaj\\anaconda3\\lib\\site-packages (from selenium) (1.26.4)\n"
     ]
    }
   ],
   "source": [
    "!pip install selenium\n"
   ]
  },
  {
   "cell_type": "code",
   "execution_count": 2,
   "id": "74157cae",
   "metadata": {},
   "outputs": [],
   "source": [
    "#To start a browser Session\n",
    "from selenium import webdriver"
   ]
  },
  {
   "cell_type": "code",
   "execution_count": 3,
   "id": "8d641713",
   "metadata": {},
   "outputs": [],
   "source": [
    "browser=webdriver.Chrome(\"D:\\Software\\chromedriver.exe\")"
   ]
  },
  {
   "cell_type": "code",
   "execution_count": 4,
   "id": "3a582fdd",
   "metadata": {},
   "outputs": [],
   "source": [
    "browser.get(\"https://codechef.com\")"
   ]
  },
  {
   "cell_type": "code",
   "execution_count": 5,
   "id": "34094f7f",
   "metadata": {},
   "outputs": [],
   "source": [
    "username_element=browser.find_element_by_id(\"edit-name\")"
   ]
  },
  {
   "cell_type": "code",
   "execution_count": 6,
   "id": "efc0a7a6",
   "metadata": {},
   "outputs": [],
   "source": [
    "username_element.send_keys(\"sarthak_232001\")"
   ]
  },
  {
   "cell_type": "code",
   "execution_count": 7,
   "id": "0e121305",
   "metadata": {},
   "outputs": [],
   "source": [
    "password_element=browser.find_element_by_id(\"edit-pass\")"
   ]
  },
  {
   "cell_type": "code",
   "execution_count": 8,
   "id": "b301a4d4",
   "metadata": {},
   "outputs": [],
   "source": [
    "from getpass import getpass"
   ]
  },
  {
   "cell_type": "code",
   "execution_count": 9,
   "id": "e1db252b",
   "metadata": {},
   "outputs": [
    {
     "name": "stdout",
     "output_type": "stream",
     "text": [
      "Enter Password: ········\n"
     ]
    }
   ],
   "source": [
    "password_element.send_keys(getpass(\"Enter Password: \"))"
   ]
  },
  {
   "cell_type": "code",
   "execution_count": 10,
   "id": "ae3eeac3",
   "metadata": {},
   "outputs": [],
   "source": [
    "browser.find_element_by_id('edit-submit').click()"
   ]
  },
  {
   "cell_type": "code",
   "execution_count": 11,
   "id": "142ca8c9",
   "metadata": {},
   "outputs": [],
   "source": [
    "browser.get(\"https://www.codechef.com/submit/FLOW006\")"
   ]
  },
  {
   "cell_type": "code",
   "execution_count": 12,
   "id": "596e3836",
   "metadata": {},
   "outputs": [],
   "source": [
    "# browser.find_element_by_id('edit_area_toggle_checkbox_edit-program')"
   ]
  },
  {
   "cell_type": "code",
   "execution_count": 13,
   "id": "62cdd375",
   "metadata": {},
   "outputs": [],
   "source": [
    "with open(\"project_code.cpp\",\"r\") as f:\n",
    "    code=f.read()"
   ]
  },
  {
   "cell_type": "code",
   "execution_count": 14,
   "id": "048aced4",
   "metadata": {},
   "outputs": [
    {
     "data": {
      "text/plain": [
       "'#include <iostream>\\nusing namespace std;\\nint main() {\\n\\tint t;\\n\\tcin>>t;\\n\\tint arr[t];\\n\\tfor(int i=0;i<t;i++){\\n\\t    int n;\\n\\t    cin>>n;\\n\\t    arr[i]=n;\\n\\t}\\n\\tint x[t];\\n\\tfor(int j=0;j<t;j++){\\n\\t    int sum=0;\\n\\t    while(arr[j]>0){\\n\\t        int r=arr[j]%10;\\n\\t        sum=sum+r;\\n\\t        arr[j]=arr[j]/10;\\n\\t    }\\n\\t    x[j]=sum;\\n\\t}\\n\\tfor(int i=0;i<t;i++)\\n\\tcout<<x[i]<<endl;\\n\\t}\\n'"
      ]
     },
     "execution_count": 14,
     "metadata": {},
     "output_type": "execute_result"
    }
   ],
   "source": [
    "code"
   ]
  },
  {
   "cell_type": "code",
   "execution_count": 15,
   "id": "2ac636e4",
   "metadata": {},
   "outputs": [],
   "source": [
    "code_element=browser.find_element_by_id(\"edit-program\")"
   ]
  },
  {
   "cell_type": "code",
   "execution_count": 16,
   "id": "acaade82",
   "metadata": {},
   "outputs": [],
   "source": [
    "code_element.send_keys(code)"
   ]
  },
  {
   "cell_type": "markdown",
   "id": "65d222e8",
   "metadata": {},
   "source": [
    "##### for selecting the language\n",
    "- we will copy the xpath"
   ]
  },
  {
   "cell_type": "code",
   "execution_count": 17,
   "id": "8ab11ea5",
   "metadata": {},
   "outputs": [
    {
     "data": {
      "text/plain": [
       "<selenium.webdriver.remote.webelement.WebElement (session=\"8ed5c227c146a96fc66d8643cd6e8ea9\", element=\"bd582c99-1d95-4859-87de-28d5c2fbae69\")>"
      ]
     },
     "execution_count": 17,
     "metadata": {},
     "output_type": "execute_result"
    }
   ],
   "source": [
    "browser.find_element_by_xpath('//*[@id=\"edit-language\"]/option[1]')"
   ]
  },
  {
   "cell_type": "code",
   "execution_count": 18,
   "id": "80f87e71",
   "metadata": {},
   "outputs": [
    {
     "data": {
      "text/plain": [
       "<selenium.webdriver.remote.webelement.WebElement (session=\"8ed5c227c146a96fc66d8643cd6e8ea9\", element=\"43a5e33f-837f-4d98-b5d5-1309d1cc51ac\")>"
      ]
     },
     "execution_count": 18,
     "metadata": {},
     "output_type": "execute_result"
    }
   ],
   "source": [
    "browser.find_element_by_id(\"edit-submit-1\")"
   ]
  },
  {
   "cell_type": "code",
   "execution_count": null,
   "id": "382f2386",
   "metadata": {},
   "outputs": [],
   "source": []
  }
 ],
 "metadata": {
  "kernelspec": {
   "display_name": "Python 3",
   "language": "python",
   "name": "python3"
  },
  "language_info": {
   "codemirror_mode": {
    "name": "ipython",
    "version": 3
   },
   "file_extension": ".py",
   "mimetype": "text/x-python",
   "name": "python",
   "nbconvert_exporter": "python",
   "pygments_lexer": "ipython3",
   "version": "3.8.8"
  }
 },
 "nbformat": 4,
 "nbformat_minor": 5
}
